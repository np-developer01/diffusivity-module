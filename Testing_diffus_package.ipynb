{
 "cells": [
  {
   "cell_type": "markdown",
   "metadata": {},
   "source": [
    "# Diffusivity Package"
   ]
  },
  {
   "cell_type": "markdown",
   "metadata": {},
   "source": [
    "In the following code cells, the newly developed diffusivity package will be tested."
   ]
  },
  {
   "cell_type": "code",
   "execution_count": 2,
   "metadata": {},
   "outputs": [
    {
     "name": "stderr",
     "output_type": "stream",
     "text": [
      "/home/stefan/Dropbox/PhD/Data evaluation and Simulations/Diffusivity/diffusivity-module/diffusivity.py:416: SyntaxWarning: \"is\" with a literal. Did you mean \"==\"?\n",
      "  if shape[0] is 2:\n",
      "/home/stefan/Dropbox/PhD/Data evaluation and Simulations/Diffusivity/diffusivity-module/diffusivity.py:418: SyntaxWarning: \"is\" with a literal. Did you mean \"==\"?\n",
      "  elif shape[1] is 2:\n",
      "/home/stefan/Dropbox/PhD/Data evaluation and Simulations/Diffusivity/diffusivity-module/diffusivity.py:432: SyntaxWarning: \"is\" with a literal. Did you mean \"==\"?\n",
      "  if self.fit_function_type is \"richards\":\n",
      "/home/stefan/Dropbox/PhD/Data evaluation and Simulations/Diffusivity/diffusivity-module/diffusivity.py:435: SyntaxWarning: \"is\" with a literal. Did you mean \"==\"?\n",
      "  elif self.fit_function_type is \"gauss_cdf\":\n",
      "/home/stefan/Dropbox/PhD/Data evaluation and Simulations/Diffusivity/diffusivity-module/diffusivity.py:519: SyntaxWarning: \"is\" with a literal. Did you mean \"==\"?\n",
      "  if self.fit_function_type is 'richards':\n",
      "/home/stefan/Dropbox/PhD/Data evaluation and Simulations/Diffusivity/diffusivity-module/diffusivity.py:522: SyntaxWarning: \"is\" with a literal. Did you mean \"==\"?\n",
      "  elif self.fit_function_type is 'gauss_cdf':\n",
      "/home/stefan/Dropbox/PhD/Data evaluation and Simulations/Diffusivity/diffusivity-module/diffusivity.py:558: SyntaxWarning: \"is\" with a literal. Did you mean \"==\"?\n",
      "  elif val is 'all':\n"
     ]
    }
   ],
   "source": [
    "from PyQt5.QtWidgets import QFileDialog\n",
    "import json as js\n",
    "import numpy as np\n",
    "import pandas as pd\n",
    "from pathlib import Path, PureWindowsPath\n",
    "from scipy import io\n",
    "from scipy.optimize import curve_fit\n",
    "from scipy.stats import norm\n",
    "from scipy.special import erf\n",
    "from scipy.constants import elementary_charge, Boltzmann\n",
    "import matplotlib as mpl\n",
    "from scipy.stats import linregress\n",
    "import matplotlib.pyplot as plt\n",
    "import matplotlib.patches as pat\n",
    "import matplotlib.cm as cm\n",
    "import matplotlib.mlab as mlab\n",
    "from matplotlib import gridspec\n",
    "from matplotlib.backends.backend_pdf import PdfPages\n",
    "\n",
    "import os\n",
    "from bisect import bisect_left, bisect_right\n",
    "import re\n",
    "import itertools\n",
    "\n",
    "\n",
    "from diffusivity import DiffusivityMeasurement"
   ]
  },
  {
   "cell_type": "markdown",
   "metadata": {},
   "source": [
    "### Testing the difusivity package"
   ]
  },
  {
   "cell_type": "markdown",
   "metadata": {},
   "source": [
    "searching a file"
   ]
  },
  {
   "cell_type": "code",
   "execution_count": 24,
   "metadata": {},
   "outputs": [
    {
     "name": "stdout",
     "output_type": "stream",
     "text": [
      "/home/stefan/Dropbox/PhD/Data/Diffusivity/Diffusivity sweeps\n",
      "/home/stefan/Dropbox/PhD/Data/Diffusivity/Diffusivity sweeps/200722_S1_CL2_diffusweep_2007272nd_meas.json\n"
     ]
    }
   ],
   "source": [
    "%gui qt5\n",
    "default_path = Path(os.getcwd()).parents[2]/Path('Data/Diffusivity/Diffusivity sweeps')\n",
    "#default_path = '/home/stefan/'\n",
    "#default_path = '\\\\\\\\file\\\\e24\\\\Projects\\\\FinleyLab\\\\_IQPGroup\\\\_SSPDs\\\\Data\\\\Diffusivity\\\\Data_measured\\\\Diffusivity sweeps'\n",
    "#default_path = '\\\\\\\\192.168.110.28\\\\FinleyLab\\\\FinleyLab\\\\_IQPGroup\\\\_SSPDs\\\\Data\\\\Diffusivity\\\\Data_measured\\\\Diffusivity sweeps'\n",
    "#default_path = '192.168.110.28/E24StorageFile/FinleyLab/_IQPGroup/_SSPDs/Data/Diffusivity/Data_measured/Diffusivity sweeps'\n",
    "#default_path = '\\\\192.168.110.28/E24StorageFile/FinleyLab/_IQPGroup/_SSPDs/Data/Diffusivity/Data_measured/Diffusivity sweeps/200722_S1_CL2_diffusweep_200727-001.json'\n",
    "\n",
    "#filename = PureWindowsPath(default_path)\n",
    "#print(filename)\n",
    "print(default_path)\n",
    "filename_probe = QFileDialog.getOpenFileName(None, 'Import file', str(default_path),\"JSON/MAT files (*.json *.txt *.mat)\")\n",
    "#filename_probe = QFileDialog.getOpenFileName(self, 'Import file', str(default_path),\"JSON/MAT files (*.json *.txt *.mat)\")\n",
    "print(filename_probe[0])\n",
    "file_to_import = filename_probe[0]"
   ]
  },
  {
   "cell_type": "code",
   "execution_count": 44,
   "metadata": {},
   "outputs": [
    {
     "name": "stdout",
     "output_type": "stream",
     "text": [
      "\n"
     ]
    }
   ],
   "source": [
    "filename_probe = QFileDialog.getOpenFileName(None, 'Import file', str(filename),\"JSON/MAT files (*.json *.txt *.mat)\")\n",
    "print(filename_probe[0])\n",
    "file_to_import = filename_probe[0]"
   ]
  },
  {
   "cell_type": "code",
   "execution_count": 34,
   "metadata": {},
   "outputs": [],
   "source": [
    "\n",
    "filename_probe = QFileDialog.getOpenFileName(None, 'Import file', str(filename),\"JSON/MAT files (*.json *.txt *.mat)\",options=QFileDialog.DontUseNativeDialog)\n",
    "#filename_probe = QFileDialog.getOpenFileName(None, 'Import file', str(default_path),\"JSON/MAT files (*.json *.txt *.mat)\")"
   ]
  },
  {
   "cell_type": "code",
   "execution_count": 19,
   "metadata": {},
   "outputs": [
    {
     "name": "stdout",
     "output_type": "stream",
     "text": [
      "\\\\192.168.110.28\\FinleyLab\\FinleyLab\\_IQPGroup\\_SSPDs\\Data\\Diffusivity\\Data_measured\\Diffusivity sweeps\\200722_S1_CL2_diffusweep_200727-001.json\n"
     ]
    }
   ],
   "source": [
    "default_path = PureWindowsPath('\\\\\\\\192.168.110.28\\\\FinleyLab\\\\FinleyLab\\\\_IQPGroup\\\\_SSPDs\\\\Data\\\\Diffusivity\\\\Data_measured\\\\Diffusivity sweeps\\\\200722_S1_CL2_diffusweep_200727-001.json')\n",
    "default_path = Path('\\\\\\\\192.168.110.28\\\\FinleyLab\\\\FinleyLab\\\\_IQPGroup\\\\_SSPDs\\\\Data\\\\Diffusivity\\\\Data_measured\\\\Diffusivity sweeps\\\\200722_S1_CL2_diffusweep_200727-001.json')\n",
    "#default_path = Path('smb://WSI%5Cstefan.strohauer%40wsi.tum.de@192.168.110.28/E24StorageFile/FinleyLab/_IQPGroup/_SSPDs/Data/Diffusivity/Data_measured/Diffusivity sweeps/200722_S1_CL2_diffusweep_200727-001.json')\n",
    "file_to_import = default_path\n",
    "print(str(str(file_to_import)))"
   ]
  },
  {
   "cell_type": "markdown",
   "metadata": {},
   "source": [
    "importing a mat file"
   ]
  },
  {
   "cell_type": "code",
   "execution_count": 53,
   "metadata": {
    "collapsed": true,
    "jupyter": {
     "outputs_hidden": true
    }
   },
   "outputs": [
    {
     "ename": "NameError",
     "evalue": "name 'js' is not defined",
     "output_type": "error",
     "traceback": [
      "\u001b[0;31m---------------------------------------------------------------------------\u001b[0m",
      "\u001b[0;31mNameError\u001b[0m                                 Traceback (most recent call last)",
      "\u001b[0;32m<ipython-input-53-e3a92955f438>\u001b[0m in \u001b[0;36m<module>\u001b[0;34m\u001b[0m\n\u001b[0;32m----> 1\u001b[0;31m \u001b[0mT2\u001b[0m\u001b[0;34m=\u001b[0m\u001b[0mDiffusivityMeasurement\u001b[0m\u001b[0;34m(\u001b[0m\u001b[0mfile_to_import\u001b[0m\u001b[0;34m)\u001b[0m\u001b[0;34m\u001b[0m\u001b[0;34m\u001b[0m\u001b[0m\n\u001b[0m",
      "\u001b[0;32m~/Dropbox/PhD/Data evaluation and Simulations/Diffusivity/diffusivity-module/diffusivity.py\u001b[0m in \u001b[0;36m__init__\u001b[0;34m(self, filename, key_w_data, fit_function, T_sweeps)\u001b[0m\n\u001b[1;32m     20\u001b[0m         \u001b[0mself\u001b[0m\u001b[0;34m.\u001b[0m\u001b[0mB_sweeps\u001b[0m \u001b[0;34m=\u001b[0m \u001b[0;34m[\u001b[0m\u001b[0;34m]\u001b[0m\u001b[0;34m\u001b[0m\u001b[0;34m\u001b[0m\u001b[0m\n\u001b[1;32m     21\u001b[0m         \u001b[0mself\u001b[0m\u001b[0;34m.\u001b[0m\u001b[0mR_sweeps\u001b[0m \u001b[0;34m=\u001b[0m \u001b[0;34m[\u001b[0m\u001b[0;34m]\u001b[0m\u001b[0;34m\u001b[0m\u001b[0;34m\u001b[0m\u001b[0m\n\u001b[0;32m---> 22\u001b[0;31m         \u001b[0mself\u001b[0m\u001b[0;34m.\u001b[0m\u001b[0m_raw_data\u001b[0m \u001b[0;34m=\u001b[0m \u001b[0mself\u001b[0m\u001b[0;34m.\u001b[0m\u001b[0m__import_file\u001b[0m\u001b[0;34m(\u001b[0m\u001b[0mkey_w_data\u001b[0m\u001b[0;34m)\u001b[0m\u001b[0;34m\u001b[0m\u001b[0;34m\u001b[0m\u001b[0m\n\u001b[0m\u001b[1;32m     23\u001b[0m \u001b[0;34m\u001b[0m\u001b[0m\n\u001b[1;32m     24\u001b[0m         \u001b[0mself\u001b[0m\u001b[0;34m.\u001b[0m\u001b[0m__RT_sweeps_per_B\u001b[0m \u001b[0;34m=\u001b[0m \u001b[0;34m{\u001b[0m\u001b[0;34m}\u001b[0m  \u001b[0;31m# sorting temperature and resistance after magnetic field (B: {T,R})\u001b[0m\u001b[0;34m\u001b[0m\u001b[0;34m\u001b[0m\u001b[0m\n",
      "\u001b[0;32m~/Dropbox/PhD/Data evaluation and Simulations/Diffusivity/diffusivity-module/diffusivity.py\u001b[0m in \u001b[0;36m__import_file\u001b[0;34m(self, key_with_data)\u001b[0m\n\u001b[1;32m     47\u001b[0m         \u001b[0;32mif\u001b[0m \u001b[0mset\u001b[0m\u001b[0;34m(\u001b[0m\u001b[0;34m'.json'\u001b[0m\u001b[0;34m)\u001b[0m\u001b[0;34m.\u001b[0m\u001b[0missubset\u001b[0m\u001b[0;34m(\u001b[0m\u001b[0mset\u001b[0m\u001b[0;34m(\u001b[0m\u001b[0mself\u001b[0m\u001b[0;34m.\u001b[0m\u001b[0mfilename\u001b[0m\u001b[0;34m)\u001b[0m\u001b[0;34m)\u001b[0m\u001b[0;34m:\u001b[0m\u001b[0;34m\u001b[0m\u001b[0;34m\u001b[0m\u001b[0m\n\u001b[1;32m     48\u001b[0m             \u001b[0;32mwith\u001b[0m \u001b[0mopen\u001b[0m\u001b[0;34m(\u001b[0m\u001b[0mself\u001b[0m\u001b[0;34m.\u001b[0m\u001b[0mfilename\u001b[0m\u001b[0;34m)\u001b[0m \u001b[0;32mas\u001b[0m \u001b[0mjson_data\u001b[0m\u001b[0;34m:\u001b[0m\u001b[0;34m\u001b[0m\u001b[0;34m\u001b[0m\u001b[0m\n\u001b[0;32m---> 49\u001b[0;31m                 \u001b[0mdata_raw\u001b[0m \u001b[0;34m=\u001b[0m \u001b[0mjs\u001b[0m\u001b[0;34m.\u001b[0m\u001b[0mload\u001b[0m\u001b[0;34m(\u001b[0m\u001b[0mjson_data\u001b[0m\u001b[0;34m)\u001b[0m\u001b[0;34m\u001b[0m\u001b[0;34m\u001b[0m\u001b[0m\n\u001b[0m\u001b[1;32m     50\u001b[0m                 \u001b[0mself\u001b[0m\u001b[0;34m.\u001b[0m\u001b[0mtime_sweeps\u001b[0m\u001b[0;34m,\u001b[0m \u001b[0mself\u001b[0m\u001b[0;34m.\u001b[0m\u001b[0mT_sample_sweeps\u001b[0m\u001b[0;34m,\u001b[0m \u001b[0mself\u001b[0m\u001b[0;34m.\u001b[0m\u001b[0mT_PCB_sweeps\u001b[0m\u001b[0;34m,\u001b[0m \u001b[0mself\u001b[0m\u001b[0;34m.\u001b[0m\u001b[0mT_sample_ohms_sw\u001b[0m\u001b[0;34m,\u001b[0m \u001b[0mself\u001b[0m\u001b[0;34m.\u001b[0m\u001b[0mT_PCB_ohms_sw\u001b[0m\u001b[0;34m,\u001b[0m \u001b[0mself\u001b[0m\u001b[0;34m.\u001b[0m\u001b[0mB_sweeps\u001b[0m\u001b[0;34m,\u001b[0m \u001b[0mself\u001b[0m\u001b[0;34m.\u001b[0m\u001b[0mR_sweeps\u001b[0m \u001b[0;34m=\u001b[0m\u001b[0;31m \u001b[0m\u001b[0;31m\\\u001b[0m\u001b[0;34m\u001b[0m\u001b[0;34m\u001b[0m\u001b[0m\n\u001b[1;32m     51\u001b[0m                     \u001b[0mself\u001b[0m\u001b[0;34m.\u001b[0m\u001b[0m__return_measurement_data\u001b[0m\u001b[0;34m(\u001b[0m\u001b[0mdata_raw\u001b[0m\u001b[0;34m[\u001b[0m\u001b[0;34m'sweep'\u001b[0m\u001b[0;34m]\u001b[0m\u001b[0;34m,\u001b[0m \u001b[0;34m't'\u001b[0m\u001b[0;34m,\u001b[0m \u001b[0;34m'T_sample'\u001b[0m\u001b[0;34m,\u001b[0m \u001b[0;34m'T_PCB'\u001b[0m\u001b[0;34m,\u001b[0m \u001b[0;34m'T_sample_ohms'\u001b[0m\u001b[0;34m,\u001b[0m \u001b[0;34m'T_PCB_ohms'\u001b[0m\u001b[0;34m,\u001b[0m \u001b[0;34m'B'\u001b[0m\u001b[0;34m,\u001b[0m \u001b[0;34m'R'\u001b[0m\u001b[0;34m)\u001b[0m\u001b[0;34m\u001b[0m\u001b[0;34m\u001b[0m\u001b[0m\n",
      "\u001b[0;31mNameError\u001b[0m: name 'js' is not defined"
     ]
    }
   ],
   "source": [
    "T2=DiffusivityMeasurement(file_to_import)"
   ]
  },
  {
   "cell_type": "markdown",
   "metadata": {},
   "source": [
    "importing a json file"
   ]
  },
  {
   "cell_type": "code",
   "execution_count": 25,
   "metadata": {},
   "outputs": [],
   "source": [
    "T2=DiffusivityMeasurement(file_to_import)"
   ]
  },
  {
   "cell_type": "markdown",
   "metadata": {},
   "source": [
    "defining the fit function type"
   ]
  },
  {
   "cell_type": "code",
   "execution_count": 5,
   "metadata": {},
   "outputs": [],
   "source": [
    "T2.RTfit.fit_function_type = 'richards'\n",
    "#T2.RTfit.fit_function_type = 'gauss_cdf'"
   ]
  },
  {
   "cell_type": "markdown",
   "metadata": {},
   "source": [
    "Determination of diffusivity"
   ]
  },
  {
   "cell_type": "code",
   "execution_count": 26,
   "metadata": {},
   "outputs": [
    {
     "name": "stderr",
     "output_type": "stream",
     "text": [
      "/home/stefan/Dropbox/PhD/Data evaluation and Simulations/Diffusivity/diffusivity-module/diffusivity.py:495: RuntimeWarning: overflow encountered in float_power\n",
      "  return a + (k-a)/np.float_power((c+q*np.exp(-b*(t-m))),1/nu)\n",
      "/home/stefan/Dropbox/PhD/Data evaluation and Simulations/Diffusivity/diffusivity-module/diffusivity.py:495: RuntimeWarning: divide by zero encountered in true_divide\n",
      "  return a + (k-a)/np.float_power((c+q*np.exp(-b*(t-m))),1/nu)\n",
      "/home/stefan/Dropbox/PhD/Data evaluation and Simulations/Diffusivity/diffusivity-module/diffusivity.py:495: RuntimeWarning: overflow encountered in true_divide\n",
      "  return a + (k-a)/np.float_power((c+q*np.exp(-b*(t-m))),1/nu)\n"
     ]
    },
    {
     "name": "stdout",
     "output_type": "stream",
     "text": [
      "(0.4890922963465786, -2.243324943263882, 15.336154055425133, 5.118948673871184e-07, 0.023479137433081613, 0.9884148161586337)\n",
      "D:  0.4890922963465786\n",
      "dBc2dT:  -2.243324943263882\n",
      "B_0:  15.336154055425133\n",
      "err_D:  5.118948673871184e-07\n",
      "err_dBc2dT:  0.023479137433081613\n",
      "r_squared:  0.9884148161586337\n",
      "\n",
      "\n",
      "Diffusivity 0.4890922963465786\n",
      "Err diffusivity 5.118948673871184e-07\n",
      "Film Tc:  6.8363498125742295\n"
     ]
    }
   ],
   "source": [
    "T2.calc_RT_fits()\n",
    "d_values = T2.calc_diffusivity()\n",
    "print(d_values)\n",
    "D, dBc2dT, B_0, err_D, err_dBc2dT, r_squared = d_values\n",
    "\n",
    "print('D: ', D)\n",
    "print('dBc2dT: ', dBc2dT)\n",
    "print('B_0: ', B_0)\n",
    "print('err_D: ', err_D)\n",
    "print('err_dBc2dT: ', err_dBc2dT)\n",
    "print('r_squared: ', r_squared)\n",
    "print('\\n')\n",
    "print('Diffusivity', T2.diffusivity)\n",
    "print('Err diffusivity', T2.diffusivity_err)\n",
    "print('Film Tc: ', T2.Tc_0T)\n"
   ]
  },
  {
   "cell_type": "markdown",
   "metadata": {},
   "source": [
    "get Bc2vsT"
   ]
  },
  {
   "cell_type": "code",
   "execution_count": 7,
   "metadata": {},
   "outputs": [
    {
     "data": {
      "text/plain": [
       "[<matplotlib.lines.Line2D at 0x7f3cac5ecd90>]"
      ]
     },
     "execution_count": 7,
     "metadata": {},
     "output_type": "execute_result"
    },
    {
     "data": {
      "image/png": "[encoded data removed]",
      "text/plain": [
       "<Figure size 432x288 with 1 Axes>"
      ]
     },
     "metadata": {
      "needs_background": "light"
     },
     "output_type": "display_data"
    }
   ],
   "source": [
    "%matplotlib inline\n",
    "T, Bc2 = T2.Bc2_vs_T()\n",
    "plt.plot(T, Bc2)\n",
    "T_fit, Bc2_fit = T2.get_Bc2vsT_fit()\n",
    "plt.plot(T_fit, Bc2_fit)"
   ]
  },
  {
   "cell_type": "markdown",
   "metadata": {},
   "source": [
    "get RvsT"
   ]
  },
  {
   "cell_type": "code",
   "execution_count": 31,
   "metadata": {},
   "outputs": [
    {
     "data": {
      "text/plain": [
       "(4, 9)"
      ]
     },
     "execution_count": 31,
     "metadata": {},
     "output_type": "execute_result"
    },
    {
     "data": {
      "image/png": "[encoded data removed]",
      "text/plain": [
       "<Figure size 432x288 with 1 Axes>"
      ]
     },
     "metadata": {
      "needs_background": "light"
     },
     "output_type": "display_data"
    }
   ],
   "source": [
    "%matplotlib inline\n",
    "# using default B\n",
    "T, R = T2.R_vs_T()\n",
    "for key, t, r in zip(T.keys(), T.values(), R.values()):\n",
    "    plt.plot(t,r, label='B= '+ str(key))\n",
    "plt.legend()\n",
    "plt.xlim(4,9)\n",
    "\n",
    "# B as scalar\n",
    "# plt.plot(*T2.R_vs_T(B=0.1))\n",
    "\n",
    "# B as list\n",
    "# B=[1,2,3,4]\n",
    "# T, R = T2.R_vs_T(B)\n",
    "# for key, t, r in zip(T.keys(), T.values(), R.values()):\n",
    "#     plt.plot(t,r, label='B= '+ str(key))\n",
    "# plt.legend()\n",
    "\n",
    "# Returning errors as well\n",
    "# T, R, T_err, R_err = T2.R_vs_T(B=1, err=True)\n",
    "# fig = plt.figure()\n",
    "# ax=fig.add_subplot(111)\n",
    "# ax.errorbar(T, R, yerr=R_err, xerr=T_err)"
   ]
  },
  {
   "cell_type": "markdown",
   "metadata": {},
   "source": [
    "get R vs B"
   ]
  },
  {
   "cell_type": "code",
   "execution_count": 32,
   "metadata": {},
   "outputs": [
    {
     "data": {
      "text/plain": [
       "[<matplotlib.lines.Line2D at 0x1cf28543d88>]"
      ]
     },
     "execution_count": 32,
     "metadata": {},
     "output_type": "execute_result"
    },
    {
     "data": {
      "image/png": "[encoded data removed]",
      "text/plain": [
       "<Figure size 432x288 with 1 Axes>"
      ]
     },
     "metadata": {
      "needs_background": "light"
     },
     "output_type": "display_data"
    }
   ],
   "source": [
    "#print(T2.R_vs_B(9, err=True))\n",
    "plt.plot(*T2.R_vs_B(10))"
   ]
  },
  {
   "cell_type": "markdown",
   "metadata": {},
   "source": [
    "show how to get fit Parameters"
   ]
  },
  {
   "cell_type": "code",
   "execution_count": 33,
   "metadata": {},
   "outputs": [
    {
     "name": "stdout",
     "output_type": "stream",
     "text": [
      "{'b': 5.0, 'm': 75.62642369020502, 'nu': 1.0, 'k': 151.25284738041003}\n"
     ]
    },
    {
     "name": "stderr",
     "output_type": "stream",
     "text": [
      "C:\\Users\\Noah.Ploch\\Anaconda3\\lib\\site-packages\\scipy\\optimize\\minpack.py:789: RuntimeWarning: overflow encountered in true_divide\n",
      "  pcov = np.dot(VT.T / s**2, VT)\n"
     ]
    }
   ],
   "source": [
    "# take into account that you get back all the fitted b fields, not only the ones you asked for, since the function only adds parameters to the parameters_RTfit attribute\n",
    "\n",
    "\n",
    "# T2.parameters_RTfit={}\n",
    "# # shows dict_param is updated continuously\n",
    "# T2.fit_function_parameters(B=[1,2,3,4])\n",
    "# print(T2.parameters_RTfit)\n",
    "# T2.fit_function_parameters(B=[2.5,3.5])\n",
    "# print(T2.parameters_RTfit)\n",
    "# print(T2.fit_function_parameters(B=2.3))\n",
    "# print(T2.parameters_RTfit)\n",
    "\n",
    "# T2.parameters_RTfit={}\n",
    "# print(T2.fit_function_parameters(B=[2.3,2.7]))\n",
    "# print(T2.parameters_RTfit)"
   ]
  },
  {
   "cell_type": "markdown",
   "metadata": {},
   "source": [
    "show how to change starting values for fit parameters manually"
   ]
  },
  {
   "cell_type": "code",
   "execution_count": null,
   "metadata": {},
   "outputs": [],
   "source": [
    "T2.parameters_RTfit={}\n",
    "print(T2.fit_function_parameters(B=0.1))\n",
    "print(T2.parameters_RTfit)\n",
    "T2.RTfit.set_fit_parameters(b=5)\n",
    "print(T2.fit_function_parameters(B=0.1))\n",
    "print(T2.fit_function_parameters(B='all')) # to have fitting parameters for all B values again"
   ]
  },
  {
   "cell_type": "markdown",
   "metadata": {},
   "source": [
    "get Tc: Transition temperature"
   ]
  },
  {
   "cell_type": "code",
   "execution_count": 40,
   "metadata": {},
   "outputs": [
    {
     "name": "stdout",
     "output_type": "stream",
     "text": [
      "[6.80164454 6.8672006  6.82260844 6.76427284 6.68831944 6.66612887]\n",
      "6.616170213687243\n",
      "(array([6.80164454, 6.8672006 , 6.82260844, 6.76427284, 6.68831944,\n",
      "       6.66612887]), array([0.50120829, 0.56676435, 0.52217219, 0.46383659, 0.38788319,\n",
      "       0.36569262]), array([1.10512296, 1.0395669 , 1.08415906, 1.14249466, 1.21844806,\n",
      "       1.24063863]))\n",
      "(6.666128873742632, 0.365692623742632, 1.2406386262573674)\n"
     ]
    }
   ],
   "source": [
    "print(T2.get_Tc())  # returns the Tc for the default array of B fields stored in the module\n",
    "print(T2.get_Tc(B=1.1))\n",
    "print(T2.get_Tc(err=True))  # returns Tc and the lower and upper error in Temperature for Tc\n",
    "print(T2.get_Tc(B=1, err=True))"
   ]
  },
  {
   "cell_type": "markdown",
   "metadata": {},
   "source": [
    "fitting R vs T sweeps"
   ]
  },
  {
   "cell_type": "code",
   "execution_count": 41,
   "metadata": {},
   "outputs": [
    {
     "data": {
      "text/plain": [
       "[<matplotlib.lines.Line2D at 0x1cf2464c788>,\n",
       " <matplotlib.lines.Line2D at 0x1cf245d55c8>]"
      ]
     },
     "execution_count": 41,
     "metadata": {},
     "output_type": "execute_result"
    },
    {
     "data": {
      "image/png": "[encoded data removed]",
      "text/plain": [
       "<Figure size 432x288 with 1 Axes>"
      ]
     },
     "metadata": {
      "needs_background": "light"
     },
     "output_type": "display_data"
    }
   ],
   "source": [
    "%matplotlib inline\n",
    "plt.plot(*T2.R_vs_T(B=0), *T2.fit_function(B=0))"
   ]
  },
  {
   "cell_type": "markdown",
   "metadata": {},
   "source": [
    "Example: RvsT plot with error"
   ]
  },
  {
   "cell_type": "markdown",
   "metadata": {
    "lines_to_next_cell": 0,
    "title": "markdown"
   },
   "source": [
    "Plotting: Thesis style (necessary to perform latex)"
   ]
  },
  {
   "cell_type": "code",
   "execution_count": 18,
   "metadata": {
    "jupyter": {
     "source_hidden": true
    },
    "lines_to_next_cell": 0,
    "title": "codecell"
   },
   "outputs": [
    {
     "name": "stderr",
     "output_type": "stream",
     "text": [
      "C:\\Users\\Noah.Ploch\\Anaconda3\\lib\\_collections_abc.py:841: MatplotlibDeprecationWarning: \n",
      "The text.latex.unicode rcparam was deprecated in Matplotlib 3.0 and will be removed in 3.2.\n",
      "  self[key] = other[key]\n"
     ]
    }
   ],
   "source": [
    "def figsize(scale):\n",
    "    fig_width_pt = 432.487                     # Get this from LaTeX using \\showthe\\textwidth\n",
    "    inches_per_pt = 1.0/72.27                       # Convert pt to inch\n",
    "    golden_mean = (np.sqrt(5.0)-1.0)/2.0            # Aesthetic ratio\n",
    "    # one plot\n",
    "    fig_width = fig_width_pt*inches_per_pt*scale    # width in inches\n",
    "    fig_height = fig_width*golden_mean              # height in inches\n",
    "    #fig_height = fig_width*golden_mean*1.3\n",
    "\n",
    "    # splitted plots\n",
    "    #fig_width = fig_width_pt*inches_per_pt*0.4    # width in inches\n",
    "    #fig_height = fig_width*0.9\n",
    "    fig_size = [fig_width,fig_height]\n",
    "    return fig_size\n",
    "\n",
    "# Use Latex Sans-Serif font and set other plot properties\n",
    "params = {\n",
    "    'text.usetex': True,\n",
    "    #'text.usetex': False,\n",
    "    'text.latex.unicode': True,\n",
    "    'figure.figsize': figsize(0.8), # default figsize\n",
    "    'axes.labelsize': 11, # LaTeX default is 10pt font. 11\n",
    "    'axes.titlesize': 11,\n",
    "    'font.size': 11,\n",
    "    'legend.fontsize': 9, # Make the legend/label fonts a little smaller 9\n",
    "    'xtick.labelsize': 9,\n",
    "    'ytick.labelsize': 9,\n",
    "    'text.latex.preamble': [\n",
    "        r'\\usepackage{siunitx}',   # i need upright \\micro symbols, but you need...\n",
    "        r'\\sisetup{detect-all}',   # ...this to force siunitx to actually use your fonts\n",
    "        r'\\usepackage[version=4]{mhchem}',   # i need upright \\micro symbols, but you need...\n",
    "#        r'\\usepackage{helvet}',   # if you want to use helvetica\n",
    "#        r'\\usepackage[helvet]{sfmath}' # if you want to use helvetica\n",
    "        r'\\usepackage{lmodern}',\n",
    "        r'\\renewcommand*\\familydefault{\\sfdefault}' # Only if the base font of the document is to be sans serif\n",
    "        r'\\usepackage{sfmath}'\n",
    "        r'\\newcommand{\\dif}{\\mathop{}\\!\\mathrm{d}}' # differential d\n",
    "        ]\n",
    "    ,\n",
    "    'axes.linewidth': 1.0,\n",
    "    #'lines.linewidth': 1.0,\n",
    "    #'lines.markersize': 5.0,\n",
    "    #'lines.markeredgewidth': 0.1,\n",
    "    #'xtick.major.width': 1.0,\n",
    "    #'ytick.major.width': 1.0,\n",
    "    #'xtick.minor.width': 0.8,\n",
    "    #'ytick.minor.width': 0.8,\n",
    "    }\n",
    "mpl.rcParams.update(params)\n",
    "\n",
    "format_B_legend = '{:1.0f}'\n",
    "format_B2_legend = '{:1.1f}'\n",
    "format_D_legend = '{:1.3f}'\n",
    "format_T_legend = '{:1.2f}'\n",
    "\n",
    "# Use Latex Sans-Serif font\n",
    "#plt.rcParams['text.latex.preamble'] = [\n",
    "#       r'\\usepackage{siunitx}',   # i need upright \\micro symbols, but you need...\n",
    "#       r'\\sisetup{detect-all}',   # ...this to force siunitx to actually use your fonts\n",
    "#       r'\\usepackage{helvet}',    # set the normal font here\n",
    "#       r'\\usepackage{sansmath}',  # load up the sansmath so that math -> helvet\n",
    "#       r'\\sansmath'               # <- tricky! -- gotta actually tell tex to use!\n",
    "#]\n",
    "#plt.rc('text', usetex=True)\n",
    "# Use non-Latex Sans-Serif font\n",
    "#params = {'text.usetex': False, 'mathtext.fontset': 'stixsans'}\n",
    "#plt.rcParams.update(params)"
   ]
  },
  {
   "cell_type": "code",
   "execution_count": 20,
   "metadata": {},
   "outputs": [
    {
     "name": "stderr",
     "output_type": "stream",
     "text": [
      "C:\\Users\\Noah.Ploch\\Documents_C\\Python-diffusivity-module\\diffusivity-module\\diffusivity.py:494: RuntimeWarning: overflow encountered in float_power\n",
      "  return a + (k-a)/np.float_power((c+q*np.exp(-b*(t-m))),1/nu)\n"
     ]
    },
    {
     "data": {
      "image/png": "[encoded data removed]",
      "text/plain": [
       "<Figure size 344.697x213.034 with 1 Axes>"
      ]
     },
     "metadata": {
      "needs_background": "light"
     },
     "output_type": "display_data"
    }
   ],
   "source": [
    "pdfname = './test_RvsT_plot' +'.pdf'\n",
    "pdf = PdfPages(pdfname)\n",
    "\n",
    "B=[0, 0.2, 0.4, 0.8, 1.0]\n",
    "T, R, Terr, Rerr = T2.R_vs_T(B=B, err=True)  # returns the RT sweep from measurement data\n",
    "T_fit, R_fit = T2.fit_function(B=B)\n",
    "\n",
    "marker = itertools.cycle(('x', '1', '2', '3','4'))\n",
    "markersize = ['4', '5', '5', '5', '5', '5']\n",
    "\n",
    "fig = plt.figure()\n",
    "ax=fig.add_subplot(111)\n",
    "i = 0;\n",
    "for key, t, r, tf, rf, terr, rerr in zip(T.keys(), T.values(), R.values(), T_fit.values(), R_fit.values(), Terr.values(), Rerr.values()):\n",
    "    color = plt.rcParams['axes.prop_cycle'].by_key()['color'][i]\n",
    "    # Measured values\n",
    "    ax.plot(t, r, next(marker), markersize=markersize[i], color=color, \n",
    "                label=r'$\\SI{'+ '{:1.2f}'.format(abs(key)) + r'}{\\tesla}$'+ r', $T_\\text{c}=\\SI{' +'{:1.2f}'.format(T2.get_Tc(B=key)) + r'}{\\kelvin}$') #   \n",
    "    # Error rectangles\n",
    "    xy = (t[0]-terr[0], r[0]-rerr[0])\n",
    "    width = 2*terr[0]\n",
    "    height = 2*rerr[0]\n",
    "    ax.add_patch(pat.Rectangle(xy, width, height, alpha=0.1, label = r'Error in ($T$,$R$)', linewidth=0.0, facecolor=color))\n",
    "    for j, k, l, m in zip(t[1:], r[1:], terr[1:], rerr[1:]):\n",
    "        xy = (j-l, k-m)\n",
    "        width = 2*l\n",
    "        height = 2*m\n",
    "        ax.add_patch(pat.Rectangle(xy, width, height, alpha=0.1, linewidth=0.0, facecolor=color))\n",
    "    # Fitted values\n",
    "    ax.plot(tf, rf, '-', color=color, linewidth = 0.9, alpha=0.9)\n",
    "    i = i+1;\n",
    "\n",
    "# plt.xlabel(r'Temperature / $\\si{\\kelvin}$')\n",
    "# plt.ylabel(r'Resistance / $\\si{\\ohm}$')\n",
    "handles, labels = plt.gca().get_legend_handles_labels()\n",
    "order = [0,1,2,3,4,5]\n",
    "order = [0,1,2,3,4]\n",
    "ax.tick_params(direction='in', bottom=True, top=True, left=True, right=True)\n",
    "legend = ax.legend([handles[idx] for idx in order],[labels[idx] for idx in order], handletextpad=0.1, markerscale=1, loc='best', handlelength=2.5, labelspacing=0.5, frameon=False, columnspacing=0.5)\n",
    "\n",
    "#plot and save PDF\n",
    "plt.tight_layout()\n",
    "pdf.savefig(bbox_inches='tight')\n",
    "pdf.close()"
   ]
  },
  {
   "cell_type": "markdown",
   "metadata": {},
   "source": [
    "Testing the fit area limits"
   ]
  },
  {
   "cell_type": "code",
   "execution_count": 46,
   "metadata": {},
   "outputs": [
    {
     "name": "stdout",
     "output_type": "stream",
     "text": [
      "(0.6318081011472605, -1.7365920854135404, 15.083871310545124, 1.915667468574908e-07, 0.0052654167589345135, 0.9962631634356204)\n",
      "(0.6320200970877418, -1.7360095873662855, 15.079990965457917, 1.9288851784274937e-07, 0.005298190956440401, 0.9962141461627022)\n",
      "(0.6318345880475809, -1.7365192863893437, 15.083386819689945, 1.9168775251304882e-07, 0.005268300999983711, 0.9962587712848283)\n",
      "(0.631844704118941, -1.736491484062435, 15.083194344798237, 1.9168108943635406e-07, 0.005267949185807867, 0.9962591497375546)\n",
      "(0.6317062196730558, -1.7368721626966888, 15.085693877548053, 1.9064103045450673e-07, 0.005241662794385933, 0.9962978687446974)\n",
      "(0.655323985335244, -1.674275583536286, 14.666428922197973, 6.319566814891942e-08, 0.001614574874943268, 0.9998465807687579)\n"
     ]
    }
   ],
   "source": [
    "T2.fit_function_parameters(B='all')\n",
    "T2.calc_diffusivity()\n",
    "d_values=T2.get_Dfit_properties()\n",
    "print(d_values)\n",
    "\n",
    "T2.fit_function_parameters(B='all')\n",
    "T2.calc_diffusivity()\n",
    "d_values=T2.get_Dfit_properties()\n",
    "print(d_values)\n",
    "\n",
    "#changing fit area Bc2vsT\n",
    "T2.calc_diffusivity(fit_low_lim=7, fit_upp_lim=8)\n",
    "d_values=T2.get_Dfit_properties()\n",
    "print(d_values)"
   ]
  },
  {
   "cell_type": "code",
   "execution_count": null,
   "metadata": {},
   "outputs": [],
   "source": [
    "# -- NOT IMPLEMENTED --\n",
    "# reducing fit area RvsT\n",
    "\n",
    "# T2.set_RT_fit_limits(6,9)\n",
    "# T2.fit_function_parameters(B='all')\n",
    "# T2.calc_diffusivity()\n",
    "# d_values=T2.get_Dfit_properties()\n",
    "# print(d_values)\n",
    "\n",
    "# T2.set_RT_fit_limits(0,np.inf)\n",
    "# T2.fit_function_parameters(B='all')\n",
    "# T2.calc_diffusivity()\n",
    "# d_values=T2.get_Dfit_properties()\n",
    "# print(d_values)\n",
    "\n",
    "# T2.set_RT_fit_limits(0,np.inf)\n",
    "# T2.fit_function_parameters(B='all')\n",
    "# T2.calc_diffusivity()\n",
    "# d_values=T2.get_Dfit_properties()\n",
    "# print(d_values)\n",
    "\n",
    "# T2.parameters_RTfit={}\n",
    "# B=0.5\n",
    "# T2.fit_function_parameters(B)\n",
    "# print(T2.parameters_RTfit)\n",
    "# T2.set_RT_fit_limits(6,9)\n",
    "# T2.fit_function_parameters(B)\n",
    "# print(T2.parameters_RTfit)\n",
    "# T2.fit_function_parameters(B)\n",
    "# print(T2.parameters_RTfit)\n",
    "# T2.set_RT_fit_limits(7,8)\n",
    "# T2.fit_function_parameters(B)\n",
    "# print(T2.parameters_RTfit)\n",
    "\n",
    "# check why always the same values"
   ]
  },
  {
   "cell_type": "code",
   "execution_count": 44,
   "metadata": {},
   "outputs": [
    {
     "data": {
      "application/vnd.jupyter.widget-view+json": {
       "model_id": "0903a97e03b146cfbe4ec1937071768f",
       "version_major": 2,
       "version_minor": 0
      },
      "text/plain": [
       "Canvas(toolbar=Toolbar(toolitems=[('Home', 'Reset original view', 'home', 'home'), ('Back', 'Back to previous …"
      ]
     },
     "metadata": {},
     "output_type": "display_data"
    },
    {
     "data": {
      "application/vnd.jupyter.widget-view+json": {
       "model_id": "95583d9db50d49f98afba3e190d28668",
       "version_major": 2,
       "version_minor": 0
      },
      "text/plain": [
       "Canvas(toolbar=Toolbar(toolitems=[('Home', 'Reset original view', 'home', 'home'), ('Back', 'Back to previous …"
      ]
     },
     "metadata": {},
     "output_type": "display_data"
    }
   ],
   "source": [
    "%matplotlib widget\n",
    "\n",
    "for t, T_sample, T_PCB in zip(T2.time_sweeps, T2.T_sample_sweeps,  T2.T_PCB_sweeps):\n",
    "    #plt.plot(t, T_sample, t, T_PCB, color='b')\n",
    "    plt.plot(t, T_sample, color='b')\n",
    "    plt.plot(t, T_PCB, color='r')\n",
    "    \n",
    "plt.figure()\n",
    "for t, T_sample, T_PCB in zip(T2.time_sweeps, T2.T_sample_sweeps,  T2.T_PCB_sweeps):\n",
    "    #plt.plot(t, T_sample, t, T_PCB, color='b')\n",
    "    plt.plot(t, np.array(T_sample)-np.array(T_PCB), color='b')\n",
    "    #plt.plot(t, T_PCB, color='r')\n",
    "    \n",
    "# # using default B\n",
    "# T, R = T2.R_vs_T('all')\n",
    "# for key, t, r in zip(T.keys(), T.values(), R.values()):\n",
    "#     plt.plot(t,r, label='B= '+ str(key))\n",
    "# plt.legend()\n",
    "# plt.xlim(4,9)\n"
   ]
  },
  {
   "cell_type": "code",
   "execution_count": 84,
   "metadata": {},
   "outputs": [
    {
     "name": "stdout",
     "output_type": "stream",
     "text": [
      "(['/home/stefan/Dropbox/PhD/Data/Diffusivity/Diffusivity sweeps/200722_S1_CL2_diffusweep_200728800nA.json', '/home/stefan/Dropbox/PhD/Data/Diffusivity/Diffusivity sweeps/200722_S1_CL2_diffusweep_200728600nA.json', '/home/stefan/Dropbox/PhD/Data/Diffusivity/Diffusivity sweeps/200722_S1_CL2_diffusweep_200728400nA.json', '/home/stefan/Dropbox/PhD/Data/Diffusivity/Diffusivity sweeps/200722_S1_CL2_diffusweep_2007272nd_meas.json', '/home/stefan/Dropbox/PhD/Data/Diffusivity/Diffusivity sweeps/200722_S1_CL2_diffusweep_200727-001.json'], 'JSON/MAT files (*.json *.txt *.mat)')\n",
      "['/home/stefan/Dropbox/PhD/Data/Diffusivity/Diffusivity sweeps/200722_S1_CL2_diffusweep_200728800nA.json', '/home/stefan/Dropbox/PhD/Data/Diffusivity/Diffusivity sweeps/200722_S1_CL2_diffusweep_200728600nA.json', '/home/stefan/Dropbox/PhD/Data/Diffusivity/Diffusivity sweeps/200722_S1_CL2_diffusweep_200728400nA.json', '/home/stefan/Dropbox/PhD/Data/Diffusivity/Diffusivity sweeps/200722_S1_CL2_diffusweep_2007272nd_meas.json', '/home/stefan/Dropbox/PhD/Data/Diffusivity/Diffusivity sweeps/200722_S1_CL2_diffusweep_200727-001.json']\n",
      "Results for file /home/stefan/Dropbox/PhD/Data/Diffusivity/Diffusivity sweeps/200722_S1_CL2_diffusweep_200728800nA.json\n"
     ]
    },
    {
     "name": "stderr",
     "output_type": "stream",
     "text": [
      "/home/stefan/Dropbox/PhD/Data evaluation and Simulations/Diffusivity/diffusivity-module/diffusivity.py:495: RuntimeWarning: divide by zero encountered in true_divide\n",
      "  return a + (k-a)/np.float_power((c+q*np.exp(-b*(t-m))),1/nu)\n",
      "/home/stefan/Dropbox/PhD/Data evaluation and Simulations/Diffusivity/diffusivity-module/diffusivity.py:495: RuntimeWarning: overflow encountered in float_power\n",
      "  return a + (k-a)/np.float_power((c+q*np.exp(-b*(t-m))),1/nu)\n",
      "/home/stefan/Dropbox/PhD/Data evaluation and Simulations/Diffusivity/diffusivity-module/diffusivity.py:495: RuntimeWarning: overflow encountered in true_divide\n",
      "  return a + (k-a)/np.float_power((c+q*np.exp(-b*(t-m))),1/nu)\n"
     ]
    },
    {
     "name": "stdout",
     "output_type": "stream",
     "text": [
      "(0.46514784087540195, -2.3588047746015284, 16.612289692728215, 3.085636401291364e-07, 0.01564752802539612, 0.9953134728182186)\n"
     ]
    },
    {
     "data": {
      "application/vnd.jupyter.widget-view+json": {
       "model_id": "f8e915ca89b649a19b27abb82973b34a",
       "version_major": 2,
       "version_minor": 0
      },
      "text/plain": [
       "Canvas(toolbar=Toolbar(toolitems=[('Home', 'Reset original view', 'home', 'home'), ('Back', 'Back to previous …"
      ]
     },
     "metadata": {},
     "output_type": "display_data"
    },
    {
     "data": {
      "application/vnd.jupyter.widget-view+json": {
       "model_id": "2fb2eb33a7474a49964f07c289c03062",
       "version_major": 2,
       "version_minor": 0
      },
      "text/plain": [
       "Canvas(toolbar=Toolbar(toolitems=[('Home', 'Reset original view', 'home', 'home'), ('Back', 'Back to previous …"
      ]
     },
     "metadata": {},
     "output_type": "display_data"
    },
    {
     "data": {
      "application/vnd.jupyter.widget-view+json": {
       "model_id": "5bb0d124ee70481aa0dbb5ee266255b6",
       "version_major": 2,
       "version_minor": 0
      },
      "text/plain": [
       "Canvas(toolbar=Toolbar(toolitems=[('Home', 'Reset original view', 'home', 'home'), ('Back', 'Back to previous …"
      ]
     },
     "metadata": {},
     "output_type": "display_data"
    },
    {
     "name": "stdout",
     "output_type": "stream",
     "text": [
      "Results for file /home/stefan/Dropbox/PhD/Data/Diffusivity/Diffusivity sweeps/200722_S1_CL2_diffusweep_200728600nA.json\n"
     ]
    },
    {
     "name": "stderr",
     "output_type": "stream",
     "text": [
      "/home/stefan/Dropbox/PhD/Data evaluation and Simulations/Diffusivity/diffusivity-module/diffusivity.py:495: RuntimeWarning: overflow encountered in float_power\n",
      "  return a + (k-a)/np.float_power((c+q*np.exp(-b*(t-m))),1/nu)\n",
      "/home/stefan/Dropbox/PhD/Data evaluation and Simulations/Diffusivity/diffusivity-module/diffusivity.py:495: RuntimeWarning: divide by zero encountered in true_divide\n",
      "  return a + (k-a)/np.float_power((c+q*np.exp(-b*(t-m))),1/nu)\n",
      "/home/stefan/Dropbox/PhD/Data evaluation and Simulations/Diffusivity/diffusivity-module/diffusivity.py:495: RuntimeWarning: overflow encountered in true_divide\n",
      "  return a + (k-a)/np.float_power((c+q*np.exp(-b*(t-m))),1/nu)\n"
     ]
    },
    {
     "name": "stdout",
     "output_type": "stream",
     "text": [
      "(0.45080343063470807, -2.4338611319077557, 16.77120346467444, 3.8158724227431423e-07, 0.020601670135822096, 0.9923918296906798)\n"
     ]
    },
    {
     "data": {
      "application/vnd.jupyter.widget-view+json": {
       "model_id": "ee7e9694a22347e6976096b0d97faa18",
       "version_major": 2,
       "version_minor": 0
      },
      "text/plain": [
       "Canvas(toolbar=Toolbar(toolitems=[('Home', 'Reset original view', 'home', 'home'), ('Back', 'Back to previous …"
      ]
     },
     "metadata": {},
     "output_type": "display_data"
    },
    {
     "data": {
      "application/vnd.jupyter.widget-view+json": {
       "model_id": "9b538bebd89043508f53f2c63698beb0",
       "version_major": 2,
       "version_minor": 0
      },
      "text/plain": [
       "Canvas(toolbar=Toolbar(toolitems=[('Home', 'Reset original view', 'home', 'home'), ('Back', 'Back to previous …"
      ]
     },
     "metadata": {},
     "output_type": "display_data"
    },
    {
     "data": {
      "application/vnd.jupyter.widget-view+json": {
       "model_id": "cc915f608c8245c2ad18be353d6cbd31",
       "version_major": 2,
       "version_minor": 0
      },
      "text/plain": [
       "Canvas(toolbar=Toolbar(toolitems=[('Home', 'Reset original view', 'home', 'home'), ('Back', 'Back to previous …"
      ]
     },
     "metadata": {},
     "output_type": "display_data"
    },
    {
     "name": "stdout",
     "output_type": "stream",
     "text": [
      "Results for file /home/stefan/Dropbox/PhD/Data/Diffusivity/Diffusivity sweeps/200722_S1_CL2_diffusweep_200728400nA.json\n"
     ]
    },
    {
     "name": "stderr",
     "output_type": "stream",
     "text": [
      "/home/stefan/Dropbox/PhD/Data evaluation and Simulations/Diffusivity/diffusivity-module/diffusivity.py:495: RuntimeWarning: overflow encountered in float_power\n",
      "  return a + (k-a)/np.float_power((c+q*np.exp(-b*(t-m))),1/nu)\n",
      "/home/stefan/Dropbox/PhD/Data evaluation and Simulations/Diffusivity/diffusivity-module/diffusivity.py:495: RuntimeWarning: divide by zero encountered in true_divide\n",
      "  return a + (k-a)/np.float_power((c+q*np.exp(-b*(t-m))),1/nu)\n"
     ]
    },
    {
     "name": "stdout",
     "output_type": "stream",
     "text": [
      "(0.31480090141630107, -3.485355165808541, 24.10586613435362, 1.2011689213013602e-06, 0.1329888283683797, 0.8652143303085759)\n"
     ]
    },
    {
     "data": {
      "application/vnd.jupyter.widget-view+json": {
       "model_id": "bea5134355ab427f9230aca5a12d4e16",
       "version_major": 2,
       "version_minor": 0
      },
      "text/plain": [
       "Canvas(toolbar=Toolbar(toolitems=[('Home', 'Reset original view', 'home', 'home'), ('Back', 'Back to previous …"
      ]
     },
     "metadata": {},
     "output_type": "display_data"
    },
    {
     "data": {
      "application/vnd.jupyter.widget-view+json": {
       "model_id": "0a2f29fdf31345b69e41648be92a67e9",
       "version_major": 2,
       "version_minor": 0
      },
      "text/plain": [
       "Canvas(toolbar=Toolbar(toolitems=[('Home', 'Reset original view', 'home', 'home'), ('Back', 'Back to previous …"
      ]
     },
     "metadata": {},
     "output_type": "display_data"
    },
    {
     "data": {
      "application/vnd.jupyter.widget-view+json": {
       "model_id": "0c5bc331afb241f1bf5729b9be76c9e1",
       "version_major": 2,
       "version_minor": 0
      },
      "text/plain": [
       "Canvas(toolbar=Toolbar(toolitems=[('Home', 'Reset original view', 'home', 'home'), ('Back', 'Back to previous …"
      ]
     },
     "metadata": {},
     "output_type": "display_data"
    },
    {
     "name": "stdout",
     "output_type": "stream",
     "text": [
      "Results for file /home/stefan/Dropbox/PhD/Data/Diffusivity/Diffusivity sweeps/200722_S1_CL2_diffusweep_2007272nd_meas.json\n"
     ]
    },
    {
     "name": "stderr",
     "output_type": "stream",
     "text": [
      "/home/stefan/Dropbox/PhD/Data evaluation and Simulations/Diffusivity/diffusivity-module/diffusivity.py:495: RuntimeWarning: overflow encountered in float_power\n",
      "  return a + (k-a)/np.float_power((c+q*np.exp(-b*(t-m))),1/nu)\n",
      "/home/stefan/Dropbox/PhD/Data evaluation and Simulations/Diffusivity/diffusivity-module/diffusivity.py:495: RuntimeWarning: divide by zero encountered in true_divide\n",
      "  return a + (k-a)/np.float_power((c+q*np.exp(-b*(t-m))),1/nu)\n",
      "/home/stefan/Dropbox/PhD/Data evaluation and Simulations/Diffusivity/diffusivity-module/diffusivity.py:495: RuntimeWarning: overflow encountered in true_divide\n",
      "  return a + (k-a)/np.float_power((c+q*np.exp(-b*(t-m))),1/nu)\n"
     ]
    },
    {
     "name": "stdout",
     "output_type": "stream",
     "text": [
      "(0.4890922963465786, -2.243324943263882, 15.336154055425133, 5.118948673871184e-07, 0.023479137433081613, 0.9884148161586337)\n"
     ]
    },
    {
     "data": {
      "application/vnd.jupyter.widget-view+json": {
       "model_id": "d388115e688244d897e56d0bdc82a511",
       "version_major": 2,
       "version_minor": 0
      },
      "text/plain": [
       "Canvas(toolbar=Toolbar(toolitems=[('Home', 'Reset original view', 'home', 'home'), ('Back', 'Back to previous …"
      ]
     },
     "metadata": {},
     "output_type": "display_data"
    },
    {
     "data": {
      "application/vnd.jupyter.widget-view+json": {
       "model_id": "ae13ffb7183f46c888d0e29e0407f8ed",
       "version_major": 2,
       "version_minor": 0
      },
      "text/plain": [
       "Canvas(toolbar=Toolbar(toolitems=[('Home', 'Reset original view', 'home', 'home'), ('Back', 'Back to previous …"
      ]
     },
     "metadata": {},
     "output_type": "display_data"
    },
    {
     "data": {
      "application/vnd.jupyter.widget-view+json": {
       "model_id": "1e679db11f2f41f785450b98b97b8b5a",
       "version_major": 2,
       "version_minor": 0
      },
      "text/plain": [
       "Canvas(toolbar=Toolbar(toolitems=[('Home', 'Reset original view', 'home', 'home'), ('Back', 'Back to previous …"
      ]
     },
     "metadata": {},
     "output_type": "display_data"
    },
    {
     "name": "stdout",
     "output_type": "stream",
     "text": [
      "Results for file /home/stefan/Dropbox/PhD/Data/Diffusivity/Diffusivity sweeps/200722_S1_CL2_diffusweep_200727-001.json\n"
     ]
    },
    {
     "name": "stderr",
     "output_type": "stream",
     "text": [
      "/home/stefan/Dropbox/PhD/Data evaluation and Simulations/Diffusivity/diffusivity-module/diffusivity.py:495: RuntimeWarning: overflow encountered in float_power\n",
      "  return a + (k-a)/np.float_power((c+q*np.exp(-b*(t-m))),1/nu)\n",
      "/home/stefan/Dropbox/PhD/Data evaluation and Simulations/Diffusivity/diffusivity-module/diffusivity.py:495: RuntimeWarning: divide by zero encountered in true_divide\n",
      "  return a + (k-a)/np.float_power((c+q*np.exp(-b*(t-m))),1/nu)\n",
      "/home/stefan/Dropbox/PhD/Data evaluation and Simulations/Diffusivity/diffusivity-module/diffusivity.py:495: RuntimeWarning: overflow encountered in true_divide\n",
      "  return a + (k-a)/np.float_power((c+q*np.exp(-b*(t-m))),1/nu)\n"
     ]
    },
    {
     "name": "stdout",
     "output_type": "stream",
     "text": [
      "(0.47154177929424457, -2.3268202227905572, 15.901789354468775, 2.450276636485666e-07, 0.01209087609954578, 0.9971191495304841)\n"
     ]
    },
    {
     "data": {
      "application/vnd.jupyter.widget-view+json": {
       "model_id": "52c30b2c83244581b7ba5c9901950b2d",
       "version_major": 2,
       "version_minor": 0
      },
      "text/plain": [
       "Canvas(toolbar=Toolbar(toolitems=[('Home', 'Reset original view', 'home', 'home'), ('Back', 'Back to previous …"
      ]
     },
     "metadata": {},
     "output_type": "display_data"
    },
    {
     "data": {
      "application/vnd.jupyter.widget-view+json": {
       "model_id": "8af7259608da49aa8c2865f28d7d80c0",
       "version_major": 2,
       "version_minor": 0
      },
      "text/plain": [
       "Canvas(toolbar=Toolbar(toolitems=[('Home', 'Reset original view', 'home', 'home'), ('Back', 'Back to previous …"
      ]
     },
     "metadata": {},
     "output_type": "display_data"
    },
    {
     "data": {
      "application/vnd.jupyter.widget-view+json": {
       "model_id": "856e2f9417ab417d8bb29ff826d33707",
       "version_major": 2,
       "version_minor": 0
      },
      "text/plain": [
       "Canvas(toolbar=Toolbar(toolitems=[('Home', 'Reset original view', 'home', 'home'), ('Back', 'Back to previous …"
      ]
     },
     "metadata": {},
     "output_type": "display_data"
    }
   ],
   "source": [
    "%gui qt5\n",
    "default_path = Path(os.getcwd()).parents[2]/Path('Data/Diffusivity/Diffusivity sweeps')\n",
    "filename_probe = QFileDialog.getOpenFileNames(None, 'Import file', str(default_path),\"JSON/MAT files (*.json *.txt *.mat)\")\n",
    "print(filename_probe)\n",
    "print(filename_probe[0])\n",
    "file_to_import = filename_probe[0]\n",
    "all_files_to_import = file_to_import\n",
    "\n",
    "%matplotlib widget\n",
    "    \n",
    "for file_to_import in all_files_to_import:\n",
    "    print('Results for file ' + file_to_import)\n",
    "    T2=DiffusivityMeasurement(file_to_import)\n",
    "    T2.calc_RT_fits()\n",
    "    d_values = T2.calc_diffusivity()\n",
    "    print(d_values)\n",
    "    D, dBc2dT, B_0, err_D, err_dBc2dT, r_squared = d_values\n",
    "    \n",
    "    fig = plt.figure()\n",
    "    ax  = fig.add_subplot(111)\n",
    "    T, Bc2 = T2.Bc2_vs_T()\n",
    "    plt.plot(T, Bc2,'x')\n",
    "    T_fit, Bc2_fit = T2.get_Bc2vsT_fit()\n",
    "    plt.plot(T_fit, Bc2_fit)\n",
    "    ax.set_xlabel(r'Temperature / K')\n",
    "    ax.set_ylabel(r'$B_{c2}$ / T')\n",
    "\n",
    "    all_t = np.array([])\n",
    "    all_T_sample = np.array([])\n",
    "    all_T_PCB = np.array([])\n",
    "    for t, T_sample, T_PCB in zip(T2.time_sweeps, T2.T_sample_sweeps,  T2.T_PCB_sweeps):\n",
    "        all_t = np.append(all_t, t)\n",
    "        all_T_sample = np.append(all_T_sample, T_sample)\n",
    "        all_T_PCB = np.append(all_T_PCB, T_PCB)\n",
    "    fig = plt.figure()\n",
    "    ax  = fig.add_subplot(111)\n",
    "    #plt.plot(t, T_sample, t, T_PCB, color='b')\n",
    "    plt.plot(all_t, all_T_sample, color='b', label='$T_{sample}$')\n",
    "    plt.plot(all_t, all_T_PCB, color='r', label='$T_{PCB}$')\n",
    "    ax.set_xlabel(r'Time / s')\n",
    "    ax.set_ylabel(r'Temperature / K')\n",
    "    plt.legend(loc=\"best\")\n",
    "\n",
    "    fig = plt.figure()\n",
    "    ax  = fig.add_subplot(111)\n",
    "    for t, T_sample, T_PCB in zip(T2.time_sweeps, T2.T_sample_sweeps,  T2.T_PCB_sweeps):\n",
    "        #plt.plot(t, T_sample, t, T_PCB, color='b')\n",
    "        plt.plot(t, np.array(T_sample)-np.array(T_PCB), color='b')\n",
    "    ax.set_xlabel(r'Time / s')\n",
    "    ax.set_ylabel(r'$T_{sample} - T_{PCB}$ / K')"
   ]
  },
  {
   "cell_type": "markdown",
   "metadata": {},
   "source": [
    "# Access file server via smb (not fully working yet)"
   ]
  },
  {
   "cell_type": "code",
   "execution_count": 13,
   "metadata": {
    "collapsed": true,
    "jupyter": {
     "outputs_hidden": true
    }
   },
   "outputs": [
    {
     "ename": "OperationFailure",
     "evalue": "Failed to list E24StorageFile\\FinleyLab\\_IQPGroup\\_SSPDs\\Data\\Diffusivity on my_share: Unable to connect to shared device\n==================== SMB Message 0 ====================\nSMB Header:\n-----------\nCommand: 0x03 (SMB2_COM_TREE_CONNECT) \nStatus: 0x00000000 \nFlags: 0x00 \nPID: 14939 \nMID: 3 \nTID: 0 \nData: 38 bytes \nb'0900000048001e005c005c00460049004c0045005c006d0079005f0073006800610072006500' \nSMB Data Packet (hex):\n----------------------\nb'fe534d42400000000000000003000000000000000000000003000000000000005b3a0000000000008108007016bc0000000000000000000000000000000000000900000048001e005c005c00460049004c0045005c006d0079005f0073006800610072006500'\n==================== SMB Message 1 ====================\nSMB Header:\n-----------\nCommand: 0x03 (SMB2_COM_TREE_CONNECT) \nStatus: 0xC00000CC \nFlags: 0x01 \nPID: 14939 \nMID: 3 \nTID: 0 \nData: 8 bytes \nb'0900000000000000' \nSMB Data Packet (hex):\n----------------------\nb'fe534d4240000000cc0000c003000100010000000000000003000000000000005b3a0000000000008108007016bc0000000000000000000000000000000000000900000000000000'\n",
     "output_type": "error",
     "traceback": [
      "\u001b[0;31m---------------------------------------------------------------------------\u001b[0m",
      "\u001b[0;31mOperationFailure\u001b[0m                          Traceback (most recent call last)",
      "\u001b[0;32m<ipython-input-13-95e740f75586>\u001b[0m in \u001b[0;36m<module>\u001b[0;34m\u001b[0m\n\u001b[1;32m     21\u001b[0m \u001b[0;31m# print list of files at the root of the share\u001b[0m\u001b[0;34m\u001b[0m\u001b[0;34m\u001b[0m\u001b[0;34m\u001b[0m\u001b[0m\n\u001b[1;32m     22\u001b[0m \u001b[0;34m\u001b[0m\u001b[0m\n\u001b[0;32m---> 23\u001b[0;31m \u001b[0mfiles\u001b[0m \u001b[0;34m=\u001b[0m \u001b[0mconn\u001b[0m\u001b[0;34m.\u001b[0m\u001b[0mlistPath\u001b[0m\u001b[0;34m(\u001b[0m\u001b[0mshare_name\u001b[0m\u001b[0;34m,\u001b[0m \u001b[0;34m\"\\E24StorageFile\\FinleyLab\\_IQPGroup\\_SSPDs\\Data\\Diffusivity\"\u001b[0m\u001b[0;34m)\u001b[0m\u001b[0;34m\u001b[0m\u001b[0;34m\u001b[0m\u001b[0m\n\u001b[0m\u001b[1;32m     24\u001b[0m \u001b[0;31m#files = conn.listPath(share_name, \"/E24StorageFile/FinleyLab/_IQPGroup/_SSPDs/Data/Diffusivity/Data_measured/\")\u001b[0m\u001b[0;34m\u001b[0m\u001b[0;34m\u001b[0m\u001b[0;34m\u001b[0m\u001b[0m\n\u001b[1;32m     25\u001b[0m \u001b[0;32mfor\u001b[0m \u001b[0mitem\u001b[0m \u001b[0;32min\u001b[0m \u001b[0mfiles\u001b[0m\u001b[0;34m:\u001b[0m\u001b[0;34m\u001b[0m\u001b[0;34m\u001b[0m\u001b[0m\n",
      "\u001b[0;32m~/anaconda3/envs/jupyter/lib/python3.8/site-packages/smb/SMBConnection.py\u001b[0m in \u001b[0;36mlistPath\u001b[0;34m(self, service_name, path, search, pattern, timeout)\u001b[0m\n\u001b[1;32m    201\u001b[0m             \u001b[0mself\u001b[0m\u001b[0;34m.\u001b[0m\u001b[0m_listPath\u001b[0m\u001b[0;34m(\u001b[0m\u001b[0mservice_name\u001b[0m\u001b[0;34m,\u001b[0m \u001b[0mpath\u001b[0m\u001b[0;34m,\u001b[0m \u001b[0mcb\u001b[0m\u001b[0;34m,\u001b[0m \u001b[0meb\u001b[0m\u001b[0;34m,\u001b[0m \u001b[0msearch\u001b[0m \u001b[0;34m=\u001b[0m \u001b[0msearch\u001b[0m\u001b[0;34m,\u001b[0m \u001b[0mpattern\u001b[0m \u001b[0;34m=\u001b[0m \u001b[0mpattern\u001b[0m\u001b[0;34m,\u001b[0m \u001b[0mtimeout\u001b[0m \u001b[0;34m=\u001b[0m \u001b[0mtimeout\u001b[0m\u001b[0;34m)\u001b[0m\u001b[0;34m\u001b[0m\u001b[0;34m\u001b[0m\u001b[0m\n\u001b[1;32m    202\u001b[0m             \u001b[0;32mwhile\u001b[0m \u001b[0mself\u001b[0m\u001b[0;34m.\u001b[0m\u001b[0mis_busy\u001b[0m\u001b[0;34m:\u001b[0m\u001b[0;34m\u001b[0m\u001b[0;34m\u001b[0m\u001b[0m\n\u001b[0;32m--> 203\u001b[0;31m                 \u001b[0mself\u001b[0m\u001b[0;34m.\u001b[0m\u001b[0m_pollForNetBIOSPacket\u001b[0m\u001b[0;34m(\u001b[0m\u001b[0mtimeout\u001b[0m\u001b[0;34m)\u001b[0m\u001b[0;34m\u001b[0m\u001b[0;34m\u001b[0m\u001b[0m\n\u001b[0m\u001b[1;32m    204\u001b[0m         \u001b[0;32mfinally\u001b[0m\u001b[0;34m:\u001b[0m\u001b[0;34m\u001b[0m\u001b[0;34m\u001b[0m\u001b[0m\n\u001b[1;32m    205\u001b[0m             \u001b[0mself\u001b[0m\u001b[0;34m.\u001b[0m\u001b[0mis_busy\u001b[0m \u001b[0;34m=\u001b[0m \u001b[0;32mFalse\u001b[0m\u001b[0;34m\u001b[0m\u001b[0;34m\u001b[0m\u001b[0m\n",
      "\u001b[0;32m~/anaconda3/envs/jupyter/lib/python3.8/site-packages/smb/SMBConnection.py\u001b[0m in \u001b[0;36m_pollForNetBIOSPacket\u001b[0;34m(self, timeout)\u001b[0m\n\u001b[1;32m    632\u001b[0m                     \u001b[0;32mraise\u001b[0m \u001b[0mex\u001b[0m\u001b[0;34m\u001b[0m\u001b[0;34m\u001b[0m\u001b[0m\n\u001b[1;32m    633\u001b[0m \u001b[0;34m\u001b[0m\u001b[0m\n\u001b[0;32m--> 634\u001b[0;31m         \u001b[0mself\u001b[0m\u001b[0;34m.\u001b[0m\u001b[0mfeedData\u001b[0m\u001b[0;34m(\u001b[0m\u001b[0mdata\u001b[0m\u001b[0;34m)\u001b[0m\u001b[0;34m\u001b[0m\u001b[0;34m\u001b[0m\u001b[0m\n\u001b[0m",
      "\u001b[0;32m~/anaconda3/envs/jupyter/lib/python3.8/site-packages/nmb/base.py\u001b[0m in \u001b[0;36mfeedData\u001b[0;34m(self, data)\u001b[0m\n\u001b[1;32m     52\u001b[0m             \u001b[0;32melif\u001b[0m \u001b[0mlength\u001b[0m \u001b[0;34m>\u001b[0m \u001b[0;36m0\u001b[0m\u001b[0;34m:\u001b[0m\u001b[0;34m\u001b[0m\u001b[0;34m\u001b[0m\u001b[0m\n\u001b[1;32m     53\u001b[0m                 \u001b[0moffset\u001b[0m \u001b[0;34m+=\u001b[0m \u001b[0mlength\u001b[0m\u001b[0;34m\u001b[0m\u001b[0;34m\u001b[0m\u001b[0m\n\u001b[0;32m---> 54\u001b[0;31m                 \u001b[0mself\u001b[0m\u001b[0;34m.\u001b[0m\u001b[0m_processNMBSessionPacket\u001b[0m\u001b[0;34m(\u001b[0m\u001b[0mself\u001b[0m\u001b[0;34m.\u001b[0m\u001b[0mdata_nmb\u001b[0m\u001b[0;34m)\u001b[0m\u001b[0;34m\u001b[0m\u001b[0;34m\u001b[0m\u001b[0m\n\u001b[0m\u001b[1;32m     55\u001b[0m             \u001b[0;32melse\u001b[0m\u001b[0;34m:\u001b[0m\u001b[0;34m\u001b[0m\u001b[0;34m\u001b[0m\u001b[0m\n\u001b[1;32m     56\u001b[0m                 \u001b[0;32mraise\u001b[0m \u001b[0mNMBError\u001b[0m\u001b[0;34m\u001b[0m\u001b[0;34m\u001b[0m\u001b[0m\n",
      "\u001b[0;32m~/anaconda3/envs/jupyter/lib/python3.8/site-packages/nmb/base.py\u001b[0m in \u001b[0;36m_processNMBSessionPacket\u001b[0;34m(self, packet)\u001b[0m\n\u001b[1;32m     73\u001b[0m     \u001b[0;32mdef\u001b[0m \u001b[0m_processNMBSessionPacket\u001b[0m\u001b[0;34m(\u001b[0m\u001b[0mself\u001b[0m\u001b[0;34m,\u001b[0m \u001b[0mpacket\u001b[0m\u001b[0;34m)\u001b[0m\u001b[0;34m:\u001b[0m\u001b[0;34m\u001b[0m\u001b[0;34m\u001b[0m\u001b[0m\n\u001b[1;32m     74\u001b[0m         \u001b[0;32mif\u001b[0m \u001b[0mpacket\u001b[0m\u001b[0;34m.\u001b[0m\u001b[0mtype\u001b[0m \u001b[0;34m==\u001b[0m \u001b[0mSESSION_MESSAGE\u001b[0m\u001b[0;34m:\u001b[0m\u001b[0;34m\u001b[0m\u001b[0;34m\u001b[0m\u001b[0m\n\u001b[0;32m---> 75\u001b[0;31m             \u001b[0mself\u001b[0m\u001b[0;34m.\u001b[0m\u001b[0monNMBSessionMessage\u001b[0m\u001b[0;34m(\u001b[0m\u001b[0mpacket\u001b[0m\u001b[0;34m.\u001b[0m\u001b[0mflags\u001b[0m\u001b[0;34m,\u001b[0m \u001b[0mpacket\u001b[0m\u001b[0;34m.\u001b[0m\u001b[0mdata\u001b[0m\u001b[0;34m)\u001b[0m\u001b[0;34m\u001b[0m\u001b[0;34m\u001b[0m\u001b[0m\n\u001b[0m\u001b[1;32m     76\u001b[0m         \u001b[0;32melif\u001b[0m \u001b[0mpacket\u001b[0m\u001b[0;34m.\u001b[0m\u001b[0mtype\u001b[0m \u001b[0;34m==\u001b[0m \u001b[0mPOSITIVE_SESSION_RESPONSE\u001b[0m\u001b[0;34m:\u001b[0m\u001b[0;34m\u001b[0m\u001b[0;34m\u001b[0m\u001b[0m\n\u001b[1;32m     77\u001b[0m             \u001b[0mself\u001b[0m\u001b[0;34m.\u001b[0m\u001b[0monNMBSessionOK\u001b[0m\u001b[0;34m(\u001b[0m\u001b[0;34m)\u001b[0m\u001b[0;34m\u001b[0m\u001b[0;34m\u001b[0m\u001b[0m\n",
      "\u001b[0;32m~/anaconda3/envs/jupyter/lib/python3.8/site-packages/smb/base.py\u001b[0m in \u001b[0;36monNMBSessionMessage\u001b[0;34m(self, flags, data)\u001b[0m\n\u001b[1;32m    142\u001b[0m                                    \u001b[0mSMB2_COMMAND_NAMES\u001b[0m\u001b[0;34m.\u001b[0m\u001b[0mget\u001b[0m\u001b[0;34m(\u001b[0m\u001b[0mself\u001b[0m\u001b[0;34m.\u001b[0m\u001b[0msmb_message\u001b[0m\u001b[0;34m.\u001b[0m\u001b[0mcommand\u001b[0m\u001b[0;34m,\u001b[0m \u001b[0;34m'<unknown>'\u001b[0m\u001b[0;34m)\u001b[0m\u001b[0;34m,\u001b[0m\u001b[0;34m\u001b[0m\u001b[0;34m\u001b[0m\u001b[0m\n\u001b[1;32m    143\u001b[0m                                    self.smb_message.command, self.smb_message.flags)\n\u001b[0;32m--> 144\u001b[0;31m                 \u001b[0;32mif\u001b[0m \u001b[0mself\u001b[0m\u001b[0;34m.\u001b[0m\u001b[0m_updateState\u001b[0m\u001b[0;34m(\u001b[0m\u001b[0mself\u001b[0m\u001b[0;34m.\u001b[0m\u001b[0msmb_message\u001b[0m\u001b[0;34m)\u001b[0m\u001b[0;34m:\u001b[0m\u001b[0;34m\u001b[0m\u001b[0;34m\u001b[0m\u001b[0m\n\u001b[0m\u001b[1;32m    145\u001b[0m                     \u001b[0;31m# We need to create a new instance instead of calling reset() because the instance could be captured in the message history.\u001b[0m\u001b[0;34m\u001b[0m\u001b[0;34m\u001b[0m\u001b[0;34m\u001b[0m\u001b[0m\n\u001b[1;32m    146\u001b[0m                     \u001b[0mself\u001b[0m\u001b[0;34m.\u001b[0m\u001b[0msmb_message\u001b[0m \u001b[0;34m=\u001b[0m \u001b[0mself\u001b[0m\u001b[0;34m.\u001b[0m\u001b[0m_klassSMBMessage\u001b[0m\u001b[0;34m(\u001b[0m\u001b[0;34m)\u001b[0m\u001b[0;34m\u001b[0m\u001b[0;34m\u001b[0m\u001b[0m\n",
      "\u001b[0;32m~/anaconda3/envs/jupyter/lib/python3.8/site-packages/smb/base.py\u001b[0m in \u001b[0;36m_updateState_SMB2\u001b[0;34m(self, message)\u001b[0m\n\u001b[1;32m    336\u001b[0m                 \u001b[0mreq\u001b[0m \u001b[0;34m=\u001b[0m \u001b[0mself\u001b[0m\u001b[0;34m.\u001b[0m\u001b[0mpending_requests\u001b[0m\u001b[0;34m.\u001b[0m\u001b[0mpop\u001b[0m\u001b[0;34m(\u001b[0m\u001b[0mmessage\u001b[0m\u001b[0;34m.\u001b[0m\u001b[0mmid\u001b[0m\u001b[0;34m,\u001b[0m \u001b[0;32mNone\u001b[0m\u001b[0;34m)\u001b[0m\u001b[0;34m\u001b[0m\u001b[0;34m\u001b[0m\u001b[0m\n\u001b[1;32m    337\u001b[0m                 \u001b[0;32mif\u001b[0m \u001b[0mreq\u001b[0m\u001b[0;34m:\u001b[0m\u001b[0;34m\u001b[0m\u001b[0;34m\u001b[0m\u001b[0m\n\u001b[0;32m--> 338\u001b[0;31m                     \u001b[0mreq\u001b[0m\u001b[0;34m.\u001b[0m\u001b[0mcallback\u001b[0m\u001b[0;34m(\u001b[0m\u001b[0mmessage\u001b[0m\u001b[0;34m,\u001b[0m \u001b[0;34m**\u001b[0m\u001b[0mreq\u001b[0m\u001b[0;34m.\u001b[0m\u001b[0mkwargs\u001b[0m\u001b[0;34m)\u001b[0m\u001b[0;34m\u001b[0m\u001b[0;34m\u001b[0m\u001b[0m\n\u001b[0m\u001b[1;32m    339\u001b[0m                     \u001b[0;32mreturn\u001b[0m \u001b[0;32mTrue\u001b[0m\u001b[0;34m\u001b[0m\u001b[0;34m\u001b[0m\u001b[0m\n\u001b[1;32m    340\u001b[0m \u001b[0;34m\u001b[0m\u001b[0m\n",
      "\u001b[0;32m~/anaconda3/envs/jupyter/lib/python3.8/site-packages/smb/base.py\u001b[0m in \u001b[0;36mconnectCB\u001b[0;34m(connect_message, **kwargs)\u001b[0m\n\u001b[1;32m    725\u001b[0m                     \u001b[0msendCreate\u001b[0m\u001b[0;34m(\u001b[0m\u001b[0mconnect_message\u001b[0m\u001b[0;34m.\u001b[0m\u001b[0mtid\u001b[0m\u001b[0;34m)\u001b[0m\u001b[0;34m\u001b[0m\u001b[0;34m\u001b[0m\u001b[0m\n\u001b[1;32m    726\u001b[0m                 \u001b[0;32melse\u001b[0m\u001b[0;34m:\u001b[0m\u001b[0;34m\u001b[0m\u001b[0;34m\u001b[0m\u001b[0m\n\u001b[0;32m--> 727\u001b[0;31m                     \u001b[0merrback\u001b[0m\u001b[0;34m(\u001b[0m\u001b[0mOperationFailure\u001b[0m\u001b[0;34m(\u001b[0m\u001b[0;34m'Failed to list %s on %s: Unable to connect to shared device'\u001b[0m \u001b[0;34m%\u001b[0m \u001b[0;34m(\u001b[0m \u001b[0mpath\u001b[0m\u001b[0;34m,\u001b[0m \u001b[0mservice_name\u001b[0m \u001b[0;34m)\u001b[0m\u001b[0;34m,\u001b[0m \u001b[0mmessages_history\u001b[0m\u001b[0;34m)\u001b[0m\u001b[0;34m)\u001b[0m\u001b[0;34m\u001b[0m\u001b[0;34m\u001b[0m\u001b[0m\n\u001b[0m\u001b[1;32m    728\u001b[0m \u001b[0;34m\u001b[0m\u001b[0m\n\u001b[1;32m    729\u001b[0m             \u001b[0mm\u001b[0m \u001b[0;34m=\u001b[0m \u001b[0mSMB2Message\u001b[0m\u001b[0;34m(\u001b[0m\u001b[0mSMB2TreeConnectRequest\u001b[0m\u001b[0;34m(\u001b[0m\u001b[0;34mr'\\\\%s\\%s'\u001b[0m \u001b[0;34m%\u001b[0m \u001b[0;34m(\u001b[0m \u001b[0mself\u001b[0m\u001b[0;34m.\u001b[0m\u001b[0mremote_name\u001b[0m\u001b[0;34m.\u001b[0m\u001b[0mupper\u001b[0m\u001b[0;34m(\u001b[0m\u001b[0;34m)\u001b[0m\u001b[0;34m,\u001b[0m \u001b[0mservice_name\u001b[0m \u001b[0;34m)\u001b[0m\u001b[0;34m)\u001b[0m\u001b[0;34m)\u001b[0m\u001b[0;34m\u001b[0m\u001b[0;34m\u001b[0m\u001b[0m\n",
      "\u001b[0;32m~/anaconda3/envs/jupyter/lib/python3.8/site-packages/smb/SMBConnection.py\u001b[0m in \u001b[0;36meb\u001b[0;34m(failure)\u001b[0m\n\u001b[1;32m    195\u001b[0m         \u001b[0;32mdef\u001b[0m \u001b[0meb\u001b[0m\u001b[0;34m(\u001b[0m\u001b[0mfailure\u001b[0m\u001b[0;34m)\u001b[0m\u001b[0;34m:\u001b[0m\u001b[0;34m\u001b[0m\u001b[0;34m\u001b[0m\u001b[0m\n\u001b[1;32m    196\u001b[0m             \u001b[0mself\u001b[0m\u001b[0;34m.\u001b[0m\u001b[0mis_busy\u001b[0m \u001b[0;34m=\u001b[0m \u001b[0;32mFalse\u001b[0m\u001b[0;34m\u001b[0m\u001b[0;34m\u001b[0m\u001b[0m\n\u001b[0;32m--> 197\u001b[0;31m             \u001b[0;32mraise\u001b[0m \u001b[0mfailure\u001b[0m\u001b[0;34m\u001b[0m\u001b[0;34m\u001b[0m\u001b[0m\n\u001b[0m\u001b[1;32m    198\u001b[0m \u001b[0;34m\u001b[0m\u001b[0m\n\u001b[1;32m    199\u001b[0m         \u001b[0mself\u001b[0m\u001b[0;34m.\u001b[0m\u001b[0mis_busy\u001b[0m \u001b[0;34m=\u001b[0m \u001b[0;32mTrue\u001b[0m\u001b[0;34m\u001b[0m\u001b[0;34m\u001b[0m\u001b[0m\n",
      "\u001b[0;31mOperationFailure\u001b[0m: Failed to list E24StorageFile\\FinleyLab\\_IQPGroup\\_SSPDs\\Data\\Diffusivity on my_share: Unable to connect to shared device\n==================== SMB Message 0 ====================\nSMB Header:\n-----------\nCommand: 0x03 (SMB2_COM_TREE_CONNECT) \nStatus: 0x00000000 \nFlags: 0x00 \nPID: 14939 \nMID: 3 \nTID: 0 \nData: 38 bytes \nb'0900000048001e005c005c00460049004c0045005c006d0079005f0073006800610072006500' \nSMB Data Packet (hex):\n----------------------\nb'fe534d42400000000000000003000000000000000000000003000000000000005b3a0000000000008108007016bc0000000000000000000000000000000000000900000048001e005c005c00460049004c0045005c006d0079005f0073006800610072006500'\n==================== SMB Message 1 ====================\nSMB Header:\n-----------\nCommand: 0x03 (SMB2_COM_TREE_CONNECT) \nStatus: 0xC00000CC \nFlags: 0x01 \nPID: 14939 \nMID: 3 \nTID: 0 \nData: 8 bytes \nb'0900000000000000' \nSMB Data Packet (hex):\n----------------------\nb'fe534d4240000000cc0000c003000100010000000000000003000000000000005b3a0000000000008108007016bc0000000000000000000000000000000000000900000000000000'\n"
     ]
    }
   ],
   "source": [
    "import tempfile\n",
    "import smb\n",
    "import shutil\n",
    "\n",
    "from smb.SMBConnection import SMBConnection\n",
    "\n",
    "share_name          = \"my_share\"\n",
    "user_name           = \"stefan.strohauer@wsi.tum.de\"\n",
    "#user_name           = \"WSI%5Cstefan.strohauer%40wsi.tum.de\"\n",
    "password            = \"#######\"             # secret :-)\n",
    "local_machine_name  = \"laptop\"             # arbitrary\n",
    "server_machine_name = \"FILE\"      # MUST match correctly\n",
    "server_IP           = \"192.168.110.28\"        # as must this            \n",
    "\n",
    "# create and establish connection\n",
    "conn = SMBConnection(user_name, password, local_machine_name, server_machine_name, use_ntlm_v2 = True)\n",
    "\n",
    "conn.connect(server_IP, 139)\n",
    "#assert conn.connect(server_IP, 139)\n",
    "\n",
    "# print list of files at the root of the share\n",
    "\n",
    "files = conn.listPath(share_name, \"\\E24StorageFile\\FinleyLab\\_IQPGroup\\_SSPDs\\Data\\Diffusivity\") \n",
    "#files = conn.listPath(share_name, \"/E24StorageFile/FinleyLab/_IQPGroup/_SSPDs/Data/Diffusivity/Data_measured/\") \n",
    "for item in files:\n",
    "    print(item.filename)\n",
    "\n",
    "# check if the file we want is there\n",
    "sf = conn.getAttributes(share_name, \"rti_license.dat\")\n",
    "print(sf.file_size)\n",
    "print(sf.filename)\n",
    "\n",
    "# create a temporary file for the transfer\n",
    "file_obj = tempfile.NamedTemporaryFile(mode='w+t', delete=False)\n",
    "file_name = file_obj.name\n",
    "file_attributes, copysize = conn.retrieveFile(share_name, \"rti_license.dat\", file_obj)\n",
    "print(copysize)\n",
    "file_obj.close()\n",
    "\n",
    "# copy temporary file \n",
    "shutil.copy(file_name, \"rti_license.dat\")\n",
    "\n",
    "# close connection\n",
    "conn.close()"
   ]
  }
 ],
 "metadata": {
  "kernelspec": {
   "display_name": "Python3-jupyter-env",
   "language": "python",
   "name": "python3-jupyter-env"
  },
  "language_info": {
   "codemirror_mode": {
    "name": "ipython",
    "version": 3
   },
   "file_extension": ".py",
   "mimetype": "text/x-python",
   "name": "python",
   "nbconvert_exporter": "python",
   "pygments_lexer": "ipython3",
   "version": "3.8.2"
  }
 },
 "nbformat": 4,
 "nbformat_minor": 4
}
